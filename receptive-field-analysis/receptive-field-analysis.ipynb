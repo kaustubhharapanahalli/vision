{
  "cells": [
    {
      "cell_type": "code",
      "execution_count": 1,
      "metadata": {
        "colab": {
          "base_uri": "https://localhost:8080/"
        },
        "id": "wJptKBxALl-u",
        "outputId": "34b8dcf2-9201-424c-8861-1c1dcff4e25b"
      },
      "outputs": [],
      "source": [
        "import torch\n",
        "import torch.nn as nn\n",
        "import torch.nn.functional as F\n",
        "import torch.optim as optim\n",
        "from torchvision import datasets, transforms\n",
        "from torchinfo import summary"
      ]
    },
    {
      "cell_type": "code",
      "execution_count": 2,
      "metadata": {
        "colab": {
          "base_uri": "https://localhost:8080/"
        },
        "id": "00Owi1LBNY8L",
        "outputId": "5ed19d76-4dbf-4142-e538-4813e5bdbcbf"
      },
      "outputs": [
        {
          "data": {
            "text/plain": [
              "device(type='mps')"
            ]
          },
          "execution_count": 2,
          "metadata": {},
          "output_type": "execute_result"
        }
      ],
      "source": [
        "use_mps = torch.backends.mps.is_available()\n",
        "use_cuda = torch.cuda.is_available()\n",
        "device = \"cpu\"\n",
        "if use_cuda:\n",
        "    device = torch.device(\"cuda\")\n",
        "elif use_mps:\n",
        "    device = torch.device(\"mps\")\n",
        "\n",
        "# device = torch.device(\"cuda\" if use_cuda else \"cpu\")\n",
        "device"
      ]
    },
    {
      "cell_type": "code",
      "execution_count": 3,
      "metadata": {
        "id": "EQZaZRGcNLtr"
      },
      "outputs": [],
      "source": [
        "batch_size = 128\n",
        "\n",
        "train_loader = torch.utils.data.DataLoader(\n",
        "    datasets.MNIST('../data', train=True, download=True,\n",
        "                    transform=transforms.Compose([\n",
        "                        transforms.ToTensor(),\n",
        "                        transforms.Normalize((0.1307,), (0.3081,))\n",
        "                    ])),\n",
        "    batch_size=batch_size, shuffle=True)\n",
        "\n",
        "test_loader = torch.utils.data.DataLoader(\n",
        "    datasets.MNIST('../data', train=False, transform=transforms.Compose([\n",
        "                        transforms.ToTensor(),\n",
        "                        transforms.Normalize((0.1307,), (0.3081,))\n",
        "                    ])),\n",
        "    batch_size=batch_size, shuffle=True)"
      ]
    },
    {
      "cell_type": "markdown",
      "metadata": {
        "id": "r3gEjf-xMb-N"
      },
      "source": [
        "# Some Notes on our naive model\n",
        "\n",
        "We are going to write a network based on what we have learnt so far.\n",
        "\n",
        "The size of the input image is 28x28x1. We are going to add as many layers as required to reach RF = 32 \"atleast\"."
      ]
    },
    {
      "cell_type": "code",
      "execution_count": 4,
      "metadata": {
        "id": "Sir2LmSVLr_4"
      },
      "outputs": [],
      "source": [
        "class FirstDNN(nn.Module):\n",
        "  def __init__(self):\n",
        "    super(FirstDNN, self).__init__()\n",
        "    # r_in: 1, n_in: 28, j_in: 1, s: 1, r_out: 3, n_out: 28, j_out: 1\n",
        "    self.conv1 = nn.Conv2d(1, 32, 3, padding=1)\n",
        "\n",
        "    # r_in: 3, n_in: 28, j_in: 1, s: 1, r_out:5 , n_out: 28, j_out: 1\n",
        "    self.conv2 = nn.Conv2d(32, 64, 3, padding=1)\n",
        "\n",
        "    # r_in: 5, n_in: 28, j_in: 1, s: 2, r_out: 6, n_out: 14, j_out: 2\n",
        "    self.pool1 = nn.MaxPool2d(2, 2)\n",
        "\n",
        "    # r_in: 6, n_in:14 , j_in: 2, s: 1, r_out: 10, n_out: 14, j_out: 2\n",
        "    self.conv3 = nn.Conv2d(64, 128, 3, padding=1)\n",
        "\n",
        "    # r_in: 10, n_in: 14, j_in: 2, s: 1, r_out: 14, n_out: 14, j_out: 2\n",
        "    self.conv4 = nn.Conv2d(128, 256, 3, padding = 1)\n",
        "\n",
        "    # r_in: 14, n_in: 14, j_in: 2, s:2 , r_out: 16, n_out: 7, j_out: 4\n",
        "    self.pool2 = nn.MaxPool2d(2, 2)\n",
        "\n",
        "    # r_in: 16, n_in: 7, j_in: 4, s: 1, r_out: 24, n_out: 5, j_out: 4\n",
        "    self.conv5 = nn.Conv2d(256, 512, 3)\n",
        "\n",
        "    # r_in: 24, n_in: 5, j_in: 4, s: 1, r_out: 32, n_out: 3, j_out: 4\n",
        "    self.conv6 = nn.Conv2d(512, 1024, 3)\n",
        "\n",
        "    # r_in: 32, n_in: 3, j_in: 4, s: 1, r_out: 40, n_out: 1, j_out: 4\n",
        "    self.conv7 = nn.Conv2d(1024, 10, 3)\n",
        "\n",
        "# Correct values\n",
        "# https://user-images.githubusercontent.com/498461/238034116-7db4cec0-7738-42df-8b67-afa971428d39.png\n",
        "  def forward(self, x):\n",
        "    x = self.pool1(F.relu(self.conv2(F.relu(self.conv1(x)))))\n",
        "    x = self.pool2(F.relu(self.conv4(F.relu(self.conv3(x)))))\n",
        "    x = F.relu(self.conv6(F.relu(self.conv5(x))))\n",
        "    x = self.conv7(x)\n",
        "    # x = F.relu(x) # this is the last step. Think what ReLU does to our results at this stage!\n",
        "    x = x.view(-1, 10)\n",
        "    return F.log_softmax(x)\n"
      ]
    },
    {
      "cell_type": "code",
      "execution_count": 5,
      "metadata": {
        "id": "sxICO4TTNt2H"
      },
      "outputs": [],
      "source": [
        "model = FirstDNN().to(device)"
      ]
    },
    {
      "cell_type": "code",
      "execution_count": 6,
      "metadata": {
        "colab": {
          "base_uri": "https://localhost:8080/"
        },
        "id": "M__MtFIYNwXa",
        "outputId": "f4dd3593-6c04-4ade-c02a-a6bac470d5c0"
      },
      "outputs": [
        {
          "name": "stderr",
          "output_type": "stream",
          "text": [
            "/var/folders/g5/3xfgn5ts5pb5p_7sdybcfdlc0000gn/T/ipykernel_5387/1406177917.py:40: UserWarning: Implicit dimension choice for log_softmax has been deprecated. Change the call to include dim=X as an argument.\n",
            "  return F.log_softmax(x)\n"
          ]
        },
        {
          "data": {
            "text/plain": [
              "==========================================================================================\n",
              "Layer (type:depth-idx)                   Output Shape              Param #\n",
              "==========================================================================================\n",
              "FirstDNN                                 [1, 10]                   --\n",
              "├─Conv2d: 1-1                            [32, 28, 28]              320\n",
              "├─Conv2d: 1-2                            [64, 28, 28]              18,496\n",
              "├─MaxPool2d: 1-3                         [64, 14, 14]              --\n",
              "├─Conv2d: 1-4                            [128, 14, 14]             73,856\n",
              "├─Conv2d: 1-5                            [256, 14, 14]             295,168\n",
              "├─MaxPool2d: 1-6                         [256, 7, 7]               --\n",
              "├─Conv2d: 1-7                            [512, 5, 5]               1,180,160\n",
              "├─Conv2d: 1-8                            [1024, 3, 3]              4,719,616\n",
              "├─Conv2d: 1-9                            [10, 1, 1]                92,170\n",
              "==========================================================================================\n",
              "Total params: 6,379,786\n",
              "Trainable params: 6,379,786\n",
              "Non-trainable params: 0\n",
              "Total mult-adds (G): 18.74\n",
              "==========================================================================================\n",
              "Input size (MB): 0.00\n",
              "Forward/backward pass size (MB): 1.38\n",
              "Params size (MB): 25.52\n",
              "Estimated Total Size (MB): 26.90\n",
              "=========================================================================================="
            ]
          },
          "execution_count": 6,
          "metadata": {},
          "output_type": "execute_result"
        }
      ],
      "source": [
        "summary(model, input_size=(1, 28, 28))"
      ]
    },
    {
      "cell_type": "code",
      "execution_count": 9,
      "metadata": {
        "id": "g_vlC-bdNzo1"
      },
      "outputs": [],
      "source": [
        "from tqdm import tqdm\n",
        "def train(model, device, train_loader, optimizer, epoch):\n",
        "    print(device)\n",
        "    model.train()\n",
        "    model.to(device)\n",
        "    pbar = tqdm(train_loader)\n",
        "    for batch_idx, (data, target) in enumerate(pbar):\n",
        "        data, target = data.to(device), target.to(device)\n",
        "        optimizer.zero_grad()\n",
        "        output = model(data)\n",
        "        loss = F.nll_loss(output, target)\n",
        "        loss.backward()\n",
        "        optimizer.step()\n",
        "        pbar.set_description(desc= f'loss={loss.item()} batch_id={batch_idx}')\n",
        "\n",
        "\n",
        "def test(model, device, test_loader):\n",
        "    model.eval()\n",
        "    model.to(device)\n",
        "    test_loss = 0\n",
        "    correct = 0\n",
        "    with torch.no_grad():\n",
        "        for data, target in test_loader:\n",
        "            data, target = data.to(device), target.to(device)\n",
        "            output = model(data)\n",
        "            test_loss += F.nll_loss(output, target, reduction='sum').item()  # sum up batch loss\n",
        "            pred = output.argmax(dim=1, keepdim=True)  # get the index of the max log-probability\n",
        "            correct += pred.eq(target.view_as(pred)).sum().item()\n",
        "\n",
        "    test_loss /= len(test_loader.dataset)\n",
        "\n",
        "    print('\\nTest set: Average loss: {:.4f}, Accuracy: {}/{} ({:.0f}%)\\n'.format(\n",
        "        test_loss, correct, len(test_loader.dataset),\n",
        "        100. * correct / len(test_loader.dataset)))"
      ]
    },
    {
      "cell_type": "code",
      "execution_count": 10,
      "metadata": {
        "colab": {
          "base_uri": "https://localhost:8080/"
        },
        "id": "a0FYVWkGOFBS",
        "outputId": "3c5494dd-bfc8-4ac7-bf84-c5a29ce7ee40"
      },
      "outputs": [
        {
          "name": "stdout",
          "output_type": "stream",
          "text": [
            "mps\n"
          ]
        },
        {
          "name": "stderr",
          "output_type": "stream",
          "text": [
            "  0%|          | 0/469 [00:00<?, ?it/s]/var/folders/g5/3xfgn5ts5pb5p_7sdybcfdlc0000gn/T/ipykernel_5387/1406177917.py:40: UserWarning: Implicit dimension choice for log_softmax has been deprecated. Change the call to include dim=X as an argument.\n",
            "  return F.log_softmax(x)\n",
            "loss=0.06411048769950867 batch_id=468: 100%|██████████| 469/469 [00:24<00:00, 19.15it/s] \n"
          ]
        },
        {
          "name": "stdout",
          "output_type": "stream",
          "text": [
            "\n",
            "Test set: Average loss: 0.0667, Accuracy: 9786/10000 (98%)\n",
            "\n"
          ]
        }
      ],
      "source": [
        "optimizer = optim.SGD(model.parameters(), lr=0.01, momentum=0.9)\n",
        "\n",
        "for epoch in range(1, 2):\n",
        "    train(model, device, train_loader, optimizer, epoch)\n",
        "    test(model, device, test_loader)"
      ]
    },
    {
      "cell_type": "code",
      "execution_count": null,
      "metadata": {
        "id": "6agTEkqzz6TZ"
      },
      "outputs": [],
      "source": []
    }
  ],
  "metadata": {
    "accelerator": "GPU",
    "colab": {
      "gpuType": "T4",
      "provenance": []
    },
    "gpuClass": "standard",
    "kernelspec": {
      "display_name": "Python 3",
      "name": "python3"
    },
    "language_info": {
      "codemirror_mode": {
        "name": "ipython",
        "version": 3
      },
      "file_extension": ".py",
      "mimetype": "text/x-python",
      "name": "python",
      "nbconvert_exporter": "python",
      "pygments_lexer": "ipython3",
      "version": "3.9.6"
    }
  },
  "nbformat": 4,
  "nbformat_minor": 0
}
