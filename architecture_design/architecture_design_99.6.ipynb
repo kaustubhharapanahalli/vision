{
  "cells": [
    {
      "cell_type": "code",
      "execution_count": 1,
      "metadata": {
        "id": "0m2JWFliFfKT"
      },
      "outputs": [],
      "source": [
        "from __future__ import print_function\n",
        "import torch\n",
        "import torch.nn as nn\n",
        "import torch.nn.functional as F\n",
        "import torch.optim as optim\n",
        "from torchvision import datasets, transforms\n",
        "\n",
        "from torchinfo import summary\n",
        "from tqdm import tqdm\n",
        "import matplotlib.pyplot as plt"
      ]
    },
    {
      "cell_type": "code",
      "execution_count": 2,
      "metadata": {},
      "outputs": [
        {
          "data": {
            "text/plain": [
              "device(type='mps')"
            ]
          },
          "execution_count": 2,
          "metadata": {},
          "output_type": "execute_result"
        }
      ],
      "source": [
        "mps = torch.backends.mps.is_available()\n",
        "cuda = torch.cuda.is_available()\n",
        "device = \"cpu\"\n",
        "if cuda:\n",
        "    device = torch.device(\"cuda\")\n",
        "elif mps:\n",
        "    device = torch.device(\"mps\")\n",
        "\n",
        "device"
      ]
    },
    {
      "cell_type": "code",
      "execution_count": 3,
      "metadata": {
        "id": "h_Cx9q2QFgM7"
      },
      "outputs": [],
      "source": [
        "class Network(nn.Module):\n",
        "    def __init__(self, dropout_ratio=0.05):\n",
        "        super(Network, self).__init__()\n",
        "        self.conv1 = nn.Sequential(\n",
        "            nn.Conv2d(1, 8, 3, padding=1),\n",
        "            # nn.Dropout2d(dropout_ratio),\n",
        "            nn.BatchNorm2d(8),\n",
        "            nn.ReLU(),\n",
        "        )\n",
        "        self.conv2 = nn.Sequential(\n",
        "            nn.Conv2d(8, 8, 3, padding=1),\n",
        "            # nn.Dropout2d(dropout_ratio),\n",
        "            nn.BatchNorm2d(8),\n",
        "            nn.ReLU(),\n",
        "        )\n",
        "        self.conv3 = nn.Sequential(\n",
        "            nn.Conv2d(8, 8, 3, padding=1),\n",
        "            # nn.Dropout2d(dropout_ratio),\n",
        "            nn.BatchNorm2d(8),\n",
        "            nn.ReLU(),\n",
        "        )\n",
        "        self.conv4 = nn.Sequential(\n",
        "            nn.Conv2d(8, 8, 3, padding=1),\n",
        "            nn.Dropout2d(dropout_ratio),\n",
        "            nn.BatchNorm2d(8),\n",
        "            nn.ReLU(),\n",
        "        )\n",
        "        self.pool1 = nn.MaxPool2d(2, 2)\n",
        "\n",
        "        self.conv5 = nn.Sequential(\n",
        "            nn.Conv2d(8, 16, 3, padding=1),\n",
        "            # nn.Dropout2d(dropout_ratio),\n",
        "            nn.BatchNorm2d(16),\n",
        "            nn.ReLU(),\n",
        "        )\n",
        "        self.conv6 = nn.Sequential(\n",
        "            nn.Conv2d(16, 16, 3, padding=1),\n",
        "            # nn.Dropout2d(dropout_ratio),\n",
        "            nn.BatchNorm2d(16),\n",
        "            nn.ReLU(),\n",
        "        )\n",
        "        self.conv7 = nn.Sequential(\n",
        "            nn.Conv2d(16, 16, 3, padding=1),\n",
        "            # nn.Dropout2d(dropout_ratio),\n",
        "            nn.BatchNorm2d(16),\n",
        "            nn.ReLU(),\n",
        "        )\n",
        "        self.conv8 = nn.Sequential(\n",
        "            nn.Conv2d(16, 16, 3, padding=1),\n",
        "            nn.Dropout2d(dropout_ratio),\n",
        "            nn.BatchNorm2d(16),\n",
        "            nn.ReLU(),\n",
        "        )\n",
        "        self.pool2 = nn.MaxPool2d(2, 2)\n",
        "        self.conv9 = nn.Sequential(\n",
        "            nn.Conv2d(16, 32, 3),\n",
        "            # nn.Dropout2d(dropout_ratio),\n",
        "            nn.BatchNorm2d(32),\n",
        "            nn.ReLU(),\n",
        "        )\n",
        "        # self.conv10 = nn.Sequential(\n",
        "        #     nn.Conv2d(32, 32, 3),\n",
        "        #     nn.Dropout2d(dropout_ratio),\n",
        "        #     nn.BatchNorm2d(32),\n",
        "        #     nn.ReLU(),\n",
        "        # )\n",
        "        self.conv11 = nn.Sequential(\n",
        "            nn.Conv2d(32, 10, 1),\n",
        "        )\n",
        "        self.gap = nn.AdaptiveAvgPool2d(1)\n",
        "\n",
        "    def forward(self, x):\n",
        "        x = self.conv1(x)\n",
        "        x = self.conv2(x)\n",
        "        x = self.conv3(x)\n",
        "        x = self.conv4(x)\n",
        "        x = self.pool1(x)\n",
        "        x = self.conv5(x)\n",
        "        x = self.conv6(x)\n",
        "        x = self.conv7(x)\n",
        "        x = self.conv8(x)\n",
        "        x = self.pool2(x)\n",
        "        x = self.conv9(x)\n",
        "        # x = self.conv10(x)\n",
        "        x = self.conv11(x)\n",
        "        x = self.gap(x)\n",
        "        x = x.view(-1, 10)\n",
        "        return F.log_softmax(x, dim=1)"
      ]
    },
    {
      "cell_type": "code",
      "execution_count": 4,
      "metadata": {
        "id": "xdydjYTZFyi3"
      },
      "outputs": [
        {
          "data": {
            "text/plain": [
              "==========================================================================================\n",
              "Layer (type:depth-idx)                   Output Shape              Param #\n",
              "==========================================================================================\n",
              "Network                                  [1, 10]                   --\n",
              "├─Sequential: 1-1                        [1, 8, 28, 28]            --\n",
              "│    └─Conv2d: 2-1                       [1, 8, 28, 28]            80\n",
              "│    └─BatchNorm2d: 2-2                  [1, 8, 28, 28]            16\n",
              "│    └─ReLU: 2-3                         [1, 8, 28, 28]            --\n",
              "├─Sequential: 1-2                        [1, 8, 28, 28]            --\n",
              "│    └─Conv2d: 2-4                       [1, 8, 28, 28]            584\n",
              "│    └─BatchNorm2d: 2-5                  [1, 8, 28, 28]            16\n",
              "│    └─ReLU: 2-6                         [1, 8, 28, 28]            --\n",
              "├─Sequential: 1-3                        [1, 8, 28, 28]            --\n",
              "│    └─Conv2d: 2-7                       [1, 8, 28, 28]            584\n",
              "│    └─BatchNorm2d: 2-8                  [1, 8, 28, 28]            16\n",
              "│    └─ReLU: 2-9                         [1, 8, 28, 28]            --\n",
              "├─Sequential: 1-4                        [1, 8, 28, 28]            --\n",
              "│    └─Conv2d: 2-10                      [1, 8, 28, 28]            584\n",
              "│    └─Dropout2d: 2-11                   [1, 8, 28, 28]            --\n",
              "│    └─BatchNorm2d: 2-12                 [1, 8, 28, 28]            16\n",
              "│    └─ReLU: 2-13                        [1, 8, 28, 28]            --\n",
              "├─MaxPool2d: 1-5                         [1, 8, 14, 14]            --\n",
              "├─Sequential: 1-6                        [1, 16, 14, 14]           --\n",
              "│    └─Conv2d: 2-14                      [1, 16, 14, 14]           1,168\n",
              "│    └─BatchNorm2d: 2-15                 [1, 16, 14, 14]           32\n",
              "│    └─ReLU: 2-16                        [1, 16, 14, 14]           --\n",
              "├─Sequential: 1-7                        [1, 16, 14, 14]           --\n",
              "│    └─Conv2d: 2-17                      [1, 16, 14, 14]           2,320\n",
              "│    └─BatchNorm2d: 2-18                 [1, 16, 14, 14]           32\n",
              "│    └─ReLU: 2-19                        [1, 16, 14, 14]           --\n",
              "├─Sequential: 1-8                        [1, 16, 14, 14]           --\n",
              "│    └─Conv2d: 2-20                      [1, 16, 14, 14]           2,320\n",
              "│    └─BatchNorm2d: 2-21                 [1, 16, 14, 14]           32\n",
              "│    └─ReLU: 2-22                        [1, 16, 14, 14]           --\n",
              "├─Sequential: 1-9                        [1, 16, 14, 14]           --\n",
              "│    └─Conv2d: 2-23                      [1, 16, 14, 14]           2,320\n",
              "│    └─Dropout2d: 2-24                   [1, 16, 14, 14]           --\n",
              "│    └─BatchNorm2d: 2-25                 [1, 16, 14, 14]           32\n",
              "│    └─ReLU: 2-26                        [1, 16, 14, 14]           --\n",
              "├─MaxPool2d: 1-10                        [1, 16, 7, 7]             --\n",
              "├─Sequential: 1-11                       [1, 32, 5, 5]             --\n",
              "│    └─Conv2d: 2-27                      [1, 32, 5, 5]             4,640\n",
              "│    └─BatchNorm2d: 2-28                 [1, 32, 5, 5]             64\n",
              "│    └─ReLU: 2-29                        [1, 32, 5, 5]             --\n",
              "├─Sequential: 1-12                       [1, 10, 5, 5]             --\n",
              "│    └─Conv2d: 2-30                      [1, 10, 5, 5]             330\n",
              "├─AdaptiveAvgPool2d: 1-13                [1, 10, 1, 1]             --\n",
              "==========================================================================================\n",
              "Total params: 15,186\n",
              "Trainable params: 15,186\n",
              "Non-trainable params: 0\n",
              "Total mult-adds (M): 3.15\n",
              "==========================================================================================\n",
              "Input size (MB): 0.00\n",
              "Forward/backward pass size (MB): 0.62\n",
              "Params size (MB): 0.06\n",
              "Estimated Total Size (MB): 0.68\n",
              "=========================================================================================="
            ]
          },
          "execution_count": 4,
          "metadata": {},
          "output_type": "execute_result"
        }
      ],
      "source": [
        "model = Network(dropout_ratio=0.1).to(device)\n",
        "summary(model, input_size=(1, 1, 28, 28))"
      ]
    },
    {
      "cell_type": "code",
      "execution_count": 5,
      "metadata": {
        "id": "DqTWLaM5GHgH"
      },
      "outputs": [],
      "source": [
        "train_transforms = transforms.Compose([\n",
        "    transforms.Resize((28, 28)),\n",
        "    transforms.RandomRotation((-15., 15.), fill=0),\n",
        "    transforms.ToTensor(),\n",
        "    transforms.Normalize((0.1307,), (0.3081,)),\n",
        "    ])\n",
        "\n",
        "# Test data transformations\n",
        "test_transforms = transforms.Compose([\n",
        "    transforms.ToTensor(),\n",
        "    transforms.Normalize((0.1307,), (0.3081,))\n",
        "    ])\n"
      ]
    },
    {
      "cell_type": "code",
      "execution_count": 6,
      "metadata": {},
      "outputs": [],
      "source": [
        "train_data = datasets.MNIST('../data', train=True, download=True, transform=train_transforms)\n",
        "test_data = datasets.MNIST('../data', train=False, download=True, transform=test_transforms)"
      ]
    },
    {
      "cell_type": "code",
      "execution_count": 7,
      "metadata": {},
      "outputs": [],
      "source": [
        "torch.manual_seed(1)\n",
        "batch_size = 64\n",
        "\n",
        "kwargs = {'batch_size': batch_size, 'shuffle': True, 'num_workers': 1, 'pin_memory': True} if cuda else {'batch_size': batch_size, 'shuffle': True}\n",
        "train_loader = torch.utils.data.DataLoader(train_data, **kwargs)\n",
        "test_loader = torch.utils.data.DataLoader(test_data, **kwargs)"
      ]
    },
    {
      "cell_type": "code",
      "execution_count": 8,
      "metadata": {},
      "outputs": [],
      "source": [
        "train_losses = []\n",
        "test_losses = []\n",
        "train_acc = []\n",
        "test_acc = []\n",
        "\n",
        "test_incorrect_pred = {\"images\": [], \"ground_truths\": [], \"predicted_vals\": []}"
      ]
    },
    {
      "cell_type": "code",
      "execution_count": 9,
      "metadata": {
        "id": "8fDefDhaFlwH"
      },
      "outputs": [],
      "source": [
        "def GetCorrectPredCount(pPrediction, pLabels):\n",
        "    return pPrediction.argmax(dim=1).eq(pLabels).sum().item()\n",
        "\n",
        "def train(model, device, train_loader, optimizer, criterion):\n",
        "    model.train()\n",
        "    pbar = tqdm(train_loader)\n",
        "\n",
        "    train_loss = 0\n",
        "    correct = 0\n",
        "    processed = 0\n",
        "\n",
        "    for batch_idx, (data, target) in enumerate(pbar):\n",
        "        data, target = data.to(device), target.to(device)\n",
        "        optimizer.zero_grad()\n",
        "\n",
        "        # Predict\n",
        "        pred = model(data)\n",
        "\n",
        "        # Calculate loss\n",
        "        loss = criterion(pred, target)\n",
        "        train_loss += loss.item()\n",
        "\n",
        "        # Backpropagation\n",
        "        loss.backward()\n",
        "        optimizer.step()\n",
        "\n",
        "        correct += GetCorrectPredCount(pred, target)\n",
        "        processed += len(data)\n",
        "\n",
        "        pbar.set_description(\n",
        "            desc=f\"Train: Loss={loss.item()/len(train_loader):0.4f} Batch_id={batch_idx} Accuracy={100*correct/processed:0.2f}\"\n",
        "        )\n",
        "\n",
        "    train_acc.append(100 * correct / processed)\n",
        "    train_losses.append(train_loss / len(train_loader))\n",
        "\n",
        "\n",
        "def test(model, device, test_loader, criterion):\n",
        "    model.eval()\n",
        "\n",
        "    test_loss = 0\n",
        "    correct = 0\n",
        "\n",
        "    with torch.inference_mode():\n",
        "        for _, (data, target) in enumerate(test_loader):\n",
        "            data, target = data.to(device), target.to(device)\n",
        "\n",
        "            output = model(data)\n",
        "            loss = criterion(output, target)\n",
        "            test_loss += loss.item()\n",
        "\n",
        "            correct += GetCorrectPredCount(output, target)\n",
        "\n",
        "    test_loss /= len(test_loader.dataset)\n",
        "    test_acc.append(100.0 * correct / len(test_loader.dataset))\n",
        "    test_losses.append(test_loss)\n",
        "\n",
        "    print(\n",
        "        \"Test set: Average loss: {:.4f}, Accuracy: {}/{} ({:.2f}%)\\n\".format(\n",
        "            test_loss,\n",
        "            correct,\n",
        "            len(test_loader.dataset),\n",
        "            100.0 * correct / len(test_loader.dataset),\n",
        "        )\n",
        "    )\n",
        "\n",
        "\n",
        "def plot_images(dataloader):\n",
        "    batch_data, batch_label = next(iter(dataloader))\n",
        "\n",
        "    fig = plt.figure()\n",
        "\n",
        "    for i in range(12):\n",
        "        plt.subplot(3, 4, i + 1)\n",
        "        plt.tight_layout()\n",
        "        plt.imshow(batch_data[i].squeeze(0), cmap=\"gray\")\n",
        "        plt.title(batch_label[i].item())\n",
        "        plt.xticks([])\n",
        "        plt.yticks([])\n"
      ]
    },
    {
      "cell_type": "code",
      "execution_count": 10,
      "metadata": {},
      "outputs": [
        {
          "data": {
            "image/png": "[encoded data removed]",
            "text/plain": [
              "<Figure size 640x480 with 12 Axes>"
            ]
          },
          "metadata": {},
          "output_type": "display_data"
        }
      ],
      "source": [
        "plot_images(train_loader)"
      ]
    },
    {
      "cell_type": "code",
      "execution_count": 11,
      "metadata": {
        "id": "MMWbLWO6FuHb"
      },
      "outputs": [
        {
          "name": "stderr",
          "output_type": "stream",
          "text": [
            "/Users/kaustubh/.virtualenvs/era/lib/python3.9/site-packages/torch/optim/lr_scheduler.py:28: UserWarning: The verbose parameter is deprecated. Please use get_last_lr() to access the learning rate.\n",
            "  warnings.warn(\"The verbose parameter is deprecated. Please use get_last_lr() \"\n"
          ]
        },
        {
          "name": "stdout",
          "output_type": "stream",
          "text": [
            "Epoch 1\n"
          ]
        },
        {
          "name": "stderr",
          "output_type": "stream",
          "text": [
            "Train: Loss=0.0002 Batch_id=937 Accuracy=91.50: 100%|██████████| 938/938 [00:17<00:00, 52.78it/s]\n"
          ]
        },
        {
          "name": "stdout",
          "output_type": "stream",
          "text": [
            "Test set: Average loss: 0.0008, Accuracy: 9848/10000 (98.48%)\n",
            "\n",
            "Epoch 2\n"
          ]
        },
        {
          "name": "stderr",
          "output_type": "stream",
          "text": [
            "Train: Loss=0.0001 Batch_id=937 Accuracy=97.40: 100%|██████████| 938/938 [00:17<00:00, 54.37it/s]\n"
          ]
        },
        {
          "name": "stdout",
          "output_type": "stream",
          "text": [
            "Test set: Average loss: 0.0006, Accuracy: 9885/10000 (98.85%)\n",
            "\n",
            "Epoch 3\n"
          ]
        },
        {
          "name": "stderr",
          "output_type": "stream",
          "text": [
            "Train: Loss=0.0000 Batch_id=937 Accuracy=97.92: 100%|██████████| 938/938 [00:17<00:00, 54.20it/s]\n"
          ]
        },
        {
          "name": "stdout",
          "output_type": "stream",
          "text": [
            "Test set: Average loss: 0.0007, Accuracy: 9855/10000 (98.55%)\n",
            "\n",
            "Epoch 4\n"
          ]
        },
        {
          "name": "stderr",
          "output_type": "stream",
          "text": [
            "Train: Loss=0.0002 Batch_id=937 Accuracy=98.20: 100%|██████████| 938/938 [00:17<00:00, 54.43it/s]\n"
          ]
        },
        {
          "name": "stdout",
          "output_type": "stream",
          "text": [
            "Test set: Average loss: 0.0005, Accuracy: 9896/10000 (98.96%)\n",
            "\n",
            "Epoch 5\n"
          ]
        },
        {
          "name": "stderr",
          "output_type": "stream",
          "text": [
            "Train: Loss=0.0000 Batch_id=937 Accuracy=98.39: 100%|██████████| 938/938 [00:17<00:00, 53.62it/s]\n"
          ]
        },
        {
          "name": "stdout",
          "output_type": "stream",
          "text": [
            "Test set: Average loss: 0.0006, Accuracy: 9890/10000 (98.90%)\n",
            "\n",
            "Epoch 6\n"
          ]
        },
        {
          "name": "stderr",
          "output_type": "stream",
          "text": [
            "Train: Loss=0.0002 Batch_id=937 Accuracy=98.57: 100%|██████████| 938/938 [00:17<00:00, 54.42it/s]\n"
          ]
        },
        {
          "name": "stdout",
          "output_type": "stream",
          "text": [
            "Test set: Average loss: 0.0004, Accuracy: 9913/10000 (99.13%)\n",
            "\n",
            "Epoch 7\n"
          ]
        },
        {
          "name": "stderr",
          "output_type": "stream",
          "text": [
            "Train: Loss=0.0000 Batch_id=937 Accuracy=98.64: 100%|██████████| 938/938 [00:17<00:00, 54.65it/s]\n"
          ]
        },
        {
          "name": "stdout",
          "output_type": "stream",
          "text": [
            "Test set: Average loss: 0.0004, Accuracy: 9927/10000 (99.27%)\n",
            "\n",
            "Epoch 8\n"
          ]
        },
        {
          "name": "stderr",
          "output_type": "stream",
          "text": [
            "Train: Loss=0.0001 Batch_id=937 Accuracy=98.71: 100%|██████████| 938/938 [00:17<00:00, 54.57it/s]\n"
          ]
        },
        {
          "name": "stdout",
          "output_type": "stream",
          "text": [
            "Test set: Average loss: 0.0003, Accuracy: 9936/10000 (99.36%)\n",
            "\n",
            "Epoch 9\n"
          ]
        },
        {
          "name": "stderr",
          "output_type": "stream",
          "text": [
            "Train: Loss=0.0000 Batch_id=937 Accuracy=98.77: 100%|██████████| 938/938 [00:17<00:00, 54.36it/s]\n"
          ]
        },
        {
          "name": "stdout",
          "output_type": "stream",
          "text": [
            "Test set: Average loss: 0.0003, Accuracy: 9938/10000 (99.38%)\n",
            "\n",
            "Epoch 10\n"
          ]
        },
        {
          "name": "stderr",
          "output_type": "stream",
          "text": [
            "Train: Loss=0.0000 Batch_id=937 Accuracy=98.78: 100%|██████████| 938/938 [00:17<00:00, 54.70it/s]\n"
          ]
        },
        {
          "name": "stdout",
          "output_type": "stream",
          "text": [
            "Test set: Average loss: 0.0003, Accuracy: 9934/10000 (99.34%)\n",
            "\n",
            "Epoch 11\n"
          ]
        },
        {
          "name": "stderr",
          "output_type": "stream",
          "text": [
            "Train: Loss=0.0000 Batch_id=937 Accuracy=98.86: 100%|██████████| 938/938 [00:17<00:00, 54.22it/s]\n"
          ]
        },
        {
          "name": "stdout",
          "output_type": "stream",
          "text": [
            "Test set: Average loss: 0.0003, Accuracy: 9929/10000 (99.29%)\n",
            "\n",
            "Epoch 12\n"
          ]
        },
        {
          "name": "stderr",
          "output_type": "stream",
          "text": [
            "Train: Loss=0.0000 Batch_id=937 Accuracy=98.84: 100%|██████████| 938/938 [00:17<00:00, 53.92it/s]\n"
          ]
        },
        {
          "name": "stdout",
          "output_type": "stream",
          "text": [
            "Test set: Average loss: 0.0003, Accuracy: 9944/10000 (99.44%)\n",
            "\n",
            "Epoch 13\n"
          ]
        },
        {
          "name": "stderr",
          "output_type": "stream",
          "text": [
            "Train: Loss=0.0000 Batch_id=937 Accuracy=98.89: 100%|██████████| 938/938 [00:17<00:00, 54.69it/s]\n"
          ]
        },
        {
          "name": "stdout",
          "output_type": "stream",
          "text": [
            "Test set: Average loss: 0.0003, Accuracy: 9940/10000 (99.40%)\n",
            "\n",
            "Epoch 14\n"
          ]
        },
        {
          "name": "stderr",
          "output_type": "stream",
          "text": [
            "Train: Loss=0.0000 Batch_id=937 Accuracy=99.00: 100%|██████████| 938/938 [00:17<00:00, 54.39it/s]\n"
          ]
        },
        {
          "name": "stdout",
          "output_type": "stream",
          "text": [
            "Test set: Average loss: 0.0003, Accuracy: 9939/10000 (99.39%)\n",
            "\n",
            "Epoch 15\n"
          ]
        },
        {
          "name": "stderr",
          "output_type": "stream",
          "text": [
            "Train: Loss=0.0000 Batch_id=937 Accuracy=98.92: 100%|██████████| 938/938 [00:17<00:00, 53.37it/s]\n"
          ]
        },
        {
          "name": "stdout",
          "output_type": "stream",
          "text": [
            "Test set: Average loss: 0.0003, Accuracy: 9947/10000 (99.47%)\n",
            "\n",
            "Epoch 16\n"
          ]
        },
        {
          "name": "stderr",
          "output_type": "stream",
          "text": [
            "Train: Loss=0.0000 Batch_id=937 Accuracy=99.10: 100%|██████████| 938/938 [00:17<00:00, 54.54it/s]\n"
          ]
        },
        {
          "name": "stdout",
          "output_type": "stream",
          "text": [
            "Test set: Average loss: 0.0002, Accuracy: 9960/10000 (99.60%)\n",
            "\n",
            "Epoch 17\n"
          ]
        },
        {
          "name": "stderr",
          "output_type": "stream",
          "text": [
            "Train: Loss=0.0000 Batch_id=937 Accuracy=99.04: 100%|██████████| 938/938 [00:17<00:00, 54.50it/s]\n"
          ]
        },
        {
          "name": "stdout",
          "output_type": "stream",
          "text": [
            "Test set: Average loss: 0.0003, Accuracy: 9943/10000 (99.43%)\n",
            "\n",
            "Epoch 18\n"
          ]
        },
        {
          "name": "stderr",
          "output_type": "stream",
          "text": [
            "Train: Loss=0.0000 Batch_id=937 Accuracy=99.02: 100%|██████████| 938/938 [00:17<00:00, 54.74it/s]\n"
          ]
        },
        {
          "name": "stdout",
          "output_type": "stream",
          "text": [
            "Test set: Average loss: 0.0003, Accuracy: 9947/10000 (99.47%)\n",
            "\n",
            "Epoch 19\n"
          ]
        },
        {
          "name": "stderr",
          "output_type": "stream",
          "text": [
            "Train: Loss=0.0000 Batch_id=937 Accuracy=99.06: 100%|██████████| 938/938 [00:17<00:00, 54.49it/s]\n"
          ]
        },
        {
          "name": "stdout",
          "output_type": "stream",
          "text": [
            "Test set: Average loss: 0.0002, Accuracy: 9953/10000 (99.53%)\n",
            "\n",
            "Epoch 20\n"
          ]
        },
        {
          "name": "stderr",
          "output_type": "stream",
          "text": [
            "Train: Loss=0.0000 Batch_id=937 Accuracy=99.06: 100%|██████████| 938/938 [00:17<00:00, 54.62it/s]\n"
          ]
        },
        {
          "name": "stdout",
          "output_type": "stream",
          "text": [
            "Test set: Average loss: 0.0003, Accuracy: 9942/10000 (99.42%)\n",
            "\n"
          ]
        }
      ],
      "source": [
        "model = Network(dropout_ratio=0.05).to(device)\n",
        "optimizer = optim.SGD(model.parameters(), lr=0.05, momentum=0.9)\n",
        "scheduler = optim.lr_scheduler.StepLR(optimizer, step_size=5, gamma=0.1, verbose=True)\n",
        "# New Line\n",
        "criterion = nn.CrossEntropyLoss()\n",
        "num_epochs = 20\n",
        "\n",
        "for epoch in range(1, num_epochs+1):\n",
        "  print(f'Epoch {epoch}')\n",
        "  train(model, device, train_loader, optimizer, criterion)\n",
        "  test(model, device, test_loader, criterion)\n",
        "  optimizer.step()\n",
        "  # optimizer.get_last_lr()"
      ]
    },
    {
      "cell_type": "code",
      "execution_count": 12,
      "metadata": {
        "id": "So5uk4EkHW6R"
      },
      "outputs": [
        {
          "data": {
            "text/plain": [
              "Text(0.5, 1.0, 'Test Accuracy')"
            ]
          },
          "execution_count": 12,
          "metadata": {},
          "output_type": "execute_result"
        },
        {
          "data": {
            "image/png": "[encoded data removed]",
            "text/plain": [
              "<Figure size 1500x1000 with 4 Axes>"
            ]
          },
          "metadata": {},
          "output_type": "display_data"
        }
      ],
      "source": [
        "fig, axs = plt.subplots(2,2,figsize=(15,10))\n",
        "axs[0, 0].plot(train_losses)\n",
        "axs[0, 0].set_title(\"Training Loss\")\n",
        "axs[1, 0].plot(train_acc)\n",
        "axs[1, 0].set_title(\"Training Accuracy\")\n",
        "axs[0, 1].plot(test_losses)\n",
        "axs[0, 1].set_title(\"Test Loss\")\n",
        "axs[1, 1].plot(test_acc)\n",
        "axs[1, 1].set_title(\"Test Accuracy\")"
      ]
    },
    {
      "cell_type": "code",
      "execution_count": null,
      "metadata": {},
      "outputs": [],
      "source": []
    }
  ],
  "metadata": {
    "accelerator": "GPU",
    "colab": {
      "provenance": []
    },
    "kernelspec": {
      "display_name": "Python 3",
      "name": "python3"
    },
    "language_info": {
      "codemirror_mode": {
        "name": "ipython",
        "version": 3
      },
      "file_extension": ".py",
      "mimetype": "text/x-python",
      "name": "python",
      "nbconvert_exporter": "python",
      "pygments_lexer": "ipython3",
      "version": "3.9.6"
    }
  },
  "nbformat": 4,
  "nbformat_minor": 0
}
